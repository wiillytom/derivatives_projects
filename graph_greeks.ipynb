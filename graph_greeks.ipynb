{
  "cells": [
    {
      "cell_type": "markdown",
      "metadata": {
        "id": "view-in-github",
        "colab_type": "text"
      },
      "source": [
        "<a href=\"https://colab.research.google.com/github/wiillytom/derivatives_projects/blob/main/graph_greeks.ipynb\" target=\"_parent\"><img src=\"https://colab.research.google.com/assets/colab-badge.svg\" alt=\"Open In Colab\"/></a>"
      ]
    },
    {
      "cell_type": "code",
      "execution_count": 47,
      "id": "258cd9c0",
      "metadata": {
        "colab": {
          "base_uri": "https://localhost:8080/"
        },
        "id": "258cd9c0",
        "outputId": "70ba9e5b-dc06-467d-de56-33f3d5db8606"
      },
      "outputs": [
        {
          "output_type": "execute_result",
          "data": {
            "text/plain": [
              "np.float64(0.5497382248301129)"
            ]
          },
          "metadata": {},
          "execution_count": 47
        }
      ],
      "source": [
        "import numpy as np\n",
        "from scipy.stats import norm\n",
        "from mpl_toolkits.mplot3d import Axes3D\n",
        "import matplotlib.pyplot as plt\n",
        "import seaborn as sns\n",
        "import matplotlib.pyplot as plt\n",
        "plt.style.use('seaborn-v0_8-darkgrid')  # modern grid + soft colors\n",
        "class Option:\n",
        "    ### Option Class to compute the value of vanilla Put and Call European Options\n",
        "    def __init__(self,S,K,T,sig,r):\n",
        "\n",
        "        self.S = S\n",
        "        self.K = K\n",
        "        self.T = T\n",
        "        self.sig = sig\n",
        "        self.r = r\n",
        "\n",
        "    def d1(self):\n",
        "        return (np.log(self.S/self.K)+(self.r+(self.sig**2)/2)*self.T)/(self.sig*np.sqrt(self.T))\n",
        "\n",
        "    def d2(self):\n",
        "        return self.d1() - self.sig*np.sqrt(self.T)\n",
        "\n",
        "    def call_price(self):\n",
        "        return self.S*norm.cdf(self.d1()) - self.K*np.exp(-self.r*self.T)*norm.cdf(self.d2())\n",
        "\n",
        "    def put_price(self):\n",
        "        return self.K*np.exp(-self.r*self.T)*norm.cdf(-self.d2()) - self.S*norm.cdf(-self.d1())\n",
        "\n",
        "    # Greek Section\n",
        "    #1. Delta\n",
        "    def call_delta(self):\n",
        "        return norm.cdf(self.d1())\n",
        "\n",
        "    def put_delta(self):\n",
        "        return -norm.cdf(-self.d2())\n",
        "    #2. Gamma (Gamma put = gamma call)\n",
        "    def gamma_option(self):\n",
        "      return norm.pdf(self.d1())/(self.S*self.sig*np.sqrt(self.T))\n",
        "\n",
        "    #3. Vega\n",
        "    def vega_option(self):\n",
        "      return self.S*np.sqrt(self.T)*norm.pdf(self.d1())\n",
        "\n",
        "    #4. Theta\n",
        "    def call_theta(self):\n",
        "      return -self.S*self.sig*norm.pdf(self.d1())/(2*np.sqrt(self.T)) - self.r*self.K*np.exp(-self.r*self.T)*norm.cdf(self.d2)\n",
        "\n",
        "    def put_theta(self):\n",
        "      return -self.S*self.sig*norm.cdf(self.d1())/(2*np.sqrt(self.T)) + self.r*self.K*np.exp(-self.r*self.T)*norm.cdf(-self.d2())\n",
        "\n",
        "    #5 Rho\n",
        "    def call_rho(self):\n",
        "      return (self.K*self.T*np.exp(-self.r*self.T)*norm.cdf(self.d2()))\n",
        "\n",
        "    def put_rho(self):\n",
        "      return self.K*self.T*np.exp(-self.r*self.T)*(norm.cdf(self.d2())-1)\n",
        "\n",
        "\n",
        "first_try = Option(100, 100, 0.25, 0.2, 0.03)\n",
        "\n",
        "first_try.call_delta()"
      ]
    },
    {
      "cell_type": "code",
      "execution_count": 56,
      "id": "922059c7",
      "metadata": {
        "id": "922059c7"
      },
      "outputs": [],
      "source": [
        "class GreekGraph(Option):\n",
        "  def graph_call_delta(self):\n",
        "        S = np.linspace(0.8*self.S, 1.2*self.S, 100)\n",
        "        delta = []\n",
        "        for s in S:\n",
        "          opt = Option(s, self.K, self.T, self.sig, self.r)\n",
        "          delta.append(opt.call_delta())\n",
        "        plt.plot(S, delta, linewidth=1, color='royalblue')\n",
        "        plt.title(\"Call Delta\", fontsize=16, fontweight='bold')\n",
        "        plt.xlabel(\"Spot Price\", fontsize=12)\n",
        "        plt.ylabel(\"Delta\", fontsize=12)\n",
        "        plt.grid(alpha=1)\n",
        "  def graph"
      ]
    },
    {
      "cell_type": "code",
      "source": [
        "delta_plot = GreekGraph(100, 100, 0.25, 0.2, 0.03)\n",
        "delta_plot.graph_call_delta()"
      ],
      "metadata": {
        "colab": {
          "base_uri": "https://localhost:8080/",
          "height": 470
        },
        "id": "neKjFcBTRCPd",
        "outputId": "e803f415-da8d-400c-9132-f5156db4099f"
      },
      "id": "neKjFcBTRCPd",
      "execution_count": 57,
      "outputs": [
        {
          "output_type": "display_data",
          "data": {
            "text/plain": [
              "<Figure size 640x480 with 1 Axes>"
            ],
            "image/png": "[encoded data removed]"
          },
          "metadata": {}
        }
      ]
    },
    {
      "cell_type": "code",
      "source": [],
      "metadata": {
        "id": "3NlrDRSqRD_3"
      },
      "id": "3NlrDRSqRD_3",
      "execution_count": 40,
      "outputs": []
    },
    {
      "cell_type": "code",
      "source": [],
      "metadata": {
        "id": "NINUSvw3S6zE"
      },
      "id": "NINUSvw3S6zE",
      "execution_count": null,
      "outputs": []
    }
  ],
  "metadata": {
    "kernelspec": {
      "display_name": "base",
      "language": "python",
      "name": "python3"
    },
    "language_info": {
      "codemirror_mode": {
        "name": "ipython",
        "version": 3
      },
      "file_extension": ".py",
      "mimetype": "text/x-python",
      "name": "python",
      "nbconvert_exporter": "python",
      "pygments_lexer": "ipython3",
      "version": "3.12.2"
    },
    "colab": {
      "provenance": [],
      "include_colab_link": true
    }
  },
  "nbformat": 4,
  "nbformat_minor": 5
}